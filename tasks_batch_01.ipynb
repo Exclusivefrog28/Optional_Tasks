{
 "cells": [
  {
   "cell_type": "markdown",
   "id": "fe7db7a0-8eb9-48d6-b096-8b2c02a516fd",
   "metadata": {},
   "source": [
    "# 1-1 (1 point)\n",
    "\n",
    "The program requests an input, which the user decides in advance whether it will be a string or an integer.\n",
    "\n",
    "- If the input is a string, then print its length and the total number of letters \"a\" and \"k\" in it.\n",
    "- If the resulting input is integer, then return 42% of the remainder of the division by 13 and the sum of its digit.\n",
    "- If the input received is none of these, it will print out \"bad input\"."
   ]
  },
  {
   "metadata": {
    "ExecuteTime": {
     "end_time": "2024-11-26T13:29:49.690713Z",
     "start_time": "2024-11-26T13:29:40.248331Z"
    }
   },
   "cell_type": "code",
   "source": [
    "import random\n",
    "from itertools import product\n",
    "\n",
    "input_value = input()\n",
    "if input_value.isnumeric():\n",
    "    input_value = int(input_value)\n",
    "\n",
    "if type(input_value) is str:\n",
    "    length = len(input_value)\n",
    "    a_count = sum([1 for c in input_value if c == 'a'], start=0)\n",
    "    k_count = sum([1 for c in input_value if c == 'k'], start=0)\n",
    "    print(length, a_count, k_count)\n",
    "elif type(input_value) is int:\n",
    "    sum_of_digits = sum([int(d) for d in str(input_value)], start=0)\n",
    "    print(0.42 * (input_value % 13), sum_of_digits)\n",
    "else:\n",
    "    print(\"bad input\")"
   ],
   "id": "30710a0c65a38bdd",
   "outputs": [
    {
     "name": "stdout",
     "output_type": "stream",
     "text": [
      "17 1 2\n"
     ]
    }
   ],
   "execution_count": 3
  },
  {
   "cell_type": "markdown",
   "id": "6478e438-e965-405a-8718-492db8409645",
   "metadata": {},
   "source": [
    "# 1-2 (1 point)\n",
    "\n",
    "Create a program that gets a number x, then creates and stores the first x prime numbers in an array"
   ]
  },
  {
   "metadata": {
    "ExecuteTime": {
     "end_time": "2024-11-26T13:30:01.798857Z",
     "start_time": "2024-11-26T13:30:01.764467Z"
    }
   },
   "cell_type": "code",
   "source": [
    "def first_n_primes(n):\n",
    "    if n == 0:\n",
    "        return []\n",
    "    primes = [2]\n",
    "    i = 3\n",
    "    while len(primes) < n:\n",
    "        for prime in primes:\n",
    "            if i % prime == 0:\n",
    "                break\n",
    "        else:\n",
    "            primes.append(i)\n",
    "            if len(primes) == n:\n",
    "                return primes\n",
    "        i += 2\n",
    "    return primes"
   ],
   "id": "9a62d32f4274f7db",
   "outputs": [],
   "execution_count": 4
  },
  {
   "metadata": {
    "ExecuteTime": {
     "end_time": "2024-11-26T13:30:11.223388Z",
     "start_time": "2024-11-26T13:30:11.194801Z"
    }
   },
   "cell_type": "code",
   "source": "first_n_primes(20)",
   "id": "ab038133690ab892",
   "outputs": [
    {
     "data": {
      "text/plain": [
       "[2, 3, 5, 7, 11, 13, 17, 19, 23, 29, 31, 37, 41, 43, 47, 53, 59, 61, 67, 71]"
      ]
     },
     "execution_count": 5,
     "metadata": {},
     "output_type": "execute_result"
    }
   ],
   "execution_count": 5
  },
  {
   "cell_type": "markdown",
   "id": "7341897b-f2f0-4bb9-ac3f-06fa665e26aa",
   "metadata": {},
   "source": [
    "# 1-3 (1 point)\n",
    "\n",
    "Implement a burger ordering system that requests 3 different versions of 5 different burgers (burger only, menu, sweet potato menu) from the user and then prints out the amount to be paid."
   ]
  },
  {
   "metadata": {
    "ExecuteTime": {
     "end_time": "2024-11-26T13:30:31.533512Z",
     "start_time": "2024-11-26T13:30:19.533340Z"
    }
   },
   "cell_type": "code",
   "source": [
    "burgers = {\n",
    "    'A': 4.9,\n",
    "    'B': 4.4,\n",
    "    'C': 5.9,\n",
    "    'D': 3.9,\n",
    "    'E': 2.2,\n",
    "}\n",
    "fries_cost = 2.5\n",
    "sweet_fries_cost = 3.5\n",
    "drink_cost = 1.3\n",
    "\n",
    "menu_costs = [0, fries_cost + drink_cost, sweet_fries_cost + drink_cost]\n",
    "\n",
    "burger_choice = None\n",
    "while burger_choice not in burgers.keys():\n",
    "    burger_choice = input(\"Choose a burger! (A,B,C,D or E)\")\n",
    "\n",
    "menu_choice = None\n",
    "while menu_choice not in ['y', 'n']:\n",
    "    menu_choice = input(\"Would you like that in a menu? (y/n)\")\n",
    "if menu_choice == \"y\":\n",
    "    menu_choice = None\n",
    "    while menu_choice not in ['y', 'n']:\n",
    "        menu_choice = input(\"Would you like to get sweet potato fries? (y/n)\")\n",
    "    if menu_choice == \"y\":\n",
    "        menu_choice = 2\n",
    "    else:\n",
    "        menu_choice = 1\n",
    "else:\n",
    "    menu_choice = 0\n",
    "\n",
    "cost = burgers.get(burger_choice) + menu_costs[menu_choice]\n",
    "print(f\"That will be ${cost:.2f}!\")\n",
    "\n"
   ],
   "id": "90b76f694d8ecf9e",
   "outputs": [
    {
     "name": "stdout",
     "output_type": "stream",
     "text": [
      "That will be $9.70!\n"
     ]
    }
   ],
   "execution_count": 6
  },
  {
   "cell_type": "markdown",
   "id": "1371e451-ec8c-4fe6-a0cd-df7eb6af93a5",
   "metadata": {},
   "source": [
    "# 1-4 (1 point)\n",
    "\n",
    "Write a program that asks for a number and writes all the numbers that are divisible by 7 up to that number into an array. Print this array then remove all the even numbers from it and print it again. Then ask for another number and append that many even numbers (that are bigger then the numbers in the array) to the end of the array."
   ]
  },
  {
   "metadata": {
    "ExecuteTime": {
     "end_time": "2024-11-26T13:31:14.115158Z",
     "start_time": "2024-11-26T13:31:03.292669Z"
    }
   },
   "cell_type": "code",
   "source": [
    "n = int(input())\n",
    "m = int(input())\n",
    "\n",
    "multiples = [x for x in range(n + 1) if x % 7 == 0]\n",
    "print(multiples)\n",
    "without_evens = [x for x in multiples if x % 2 == 1]\n",
    "print(without_evens)\n",
    "first_even = without_evens[-1] + 1 if len(without_evens) > 0 else 0\n",
    "with_evens = without_evens + list(range(first_even, first_even + 2 * m, 2))\n",
    "print(with_evens)\n"
   ],
   "id": "7c91b5db29593b7a",
   "outputs": [
    {
     "name": "stdout",
     "output_type": "stream",
     "text": [
      "[0, 7, 14, 21, 28, 35, 42, 49, 56, 63, 70, 77, 84, 91, 98, 105, 112, 119, 126, 133, 140, 147, 154, 161, 168, 175, 182, 189, 196, 203, 210, 217, 224, 231, 238, 245, 252, 259, 266, 273, 280, 287, 294, 301, 308, 315, 322, 329, 336, 343, 350, 357, 364, 371, 378, 385, 392, 399, 406, 413, 420, 427, 434, 441, 448, 455, 462, 469, 476, 483, 490, 497, 504, 511, 518, 525, 532, 539, 546, 553, 560, 567, 574, 581, 588, 595, 602, 609, 616, 623, 630, 637, 644, 651, 658, 665, 672, 679, 686, 693, 700, 707, 714, 721, 728, 735, 742]\n",
      "[7, 21, 35, 49, 63, 77, 91, 105, 119, 133, 147, 161, 175, 189, 203, 217, 231, 245, 259, 273, 287, 301, 315, 329, 343, 357, 371, 385, 399, 413, 427, 441, 455, 469, 483, 497, 511, 525, 539, 553, 567, 581, 595, 609, 623, 637, 651, 665, 679, 693, 707, 721, 735]\n",
      "[7, 21, 35, 49, 63, 77, 91, 105, 119, 133, 147, 161, 175, 189, 203, 217, 231, 245, 259, 273, 287, 301, 315, 329, 343, 357, 371, 385, 399, 413, 427, 441, 455, 469, 483, 497, 511, 525, 539, 553, 567, 581, 595, 609, 623, 637, 651, 665, 679, 693, 707, 721, 735, 736, 738, 740, 742, 744, 746, 748, 750, 752, 754, 756, 758, 760, 762, 764, 766, 768, 770, 772, 774, 776, 778, 780, 782, 784, 786, 788, 790, 792, 794]\n"
     ]
    }
   ],
   "execution_count": 7
  },
  {
   "cell_type": "markdown",
   "id": "8b70ab34-1798-493b-9ce3-521d9a9c4c91",
   "metadata": {},
   "source": [
    "# 1-5 (1 point)\n",
    "\n",
    "Write a script that fills an array with 200 random numbers from 50 to 500, then deletes all the even numbers."
   ]
  },
  {
   "metadata": {
    "ExecuteTime": {
     "end_time": "2024-11-26T13:31:42.756432Z",
     "start_time": "2024-11-26T13:31:42.744704Z"
    }
   },
   "cell_type": "code",
   "source": [
    "import random\n",
    "\n",
    "array = [random.randint(50, 500) for _ in range(200)]\n",
    "array = [x for x in array if x % 2 == 1]\n",
    "print(array)"
   ],
   "id": "c68865269754be2e",
   "outputs": [
    {
     "name": "stdout",
     "output_type": "stream",
     "text": [
      "[93, 241, 453, 109, 219, 341, 479, 371, 83, 343, 235, 249, 397, 471, 321, 173, 485, 157, 205, 125, 207, 387, 483, 227, 469, 229, 157, 457, 353, 379, 203, 99, 375, 179, 79, 195, 433, 263, 489, 319, 453, 459, 447, 483, 299, 391, 491, 445, 319, 481, 95, 309, 123, 305, 199, 141, 269, 231, 277, 349, 359, 363, 317, 407, 265, 123, 451, 443, 223, 95, 377, 231, 199, 123, 71, 351, 147, 215, 285, 399, 317, 119, 499, 405, 443, 215, 275, 147, 207, 417, 317, 259, 175, 337, 93, 227, 363, 249, 145, 87, 367, 349, 499, 165]\n"
     ]
    }
   ],
   "execution_count": 8
  },
  {
   "metadata": {},
   "cell_type": "markdown",
   "source": [
    "# 1-6 (2 points)\n",
    "\n",
    "Create a module named **mymath** containing the following methods: <br>\n",
    "<br>\n",
    "*flystraight(n)*: <br>\n",
    "Get an integer n, then print the first n members of the next sequence: <br>\n",
    "If n and a(n-1) have a common divisor (GCD), then: a(n) = a(n-1)/GCD. <br>\n",
    "Else a(n) = a(n-1) + n + 1 <br>\n",
    "<br>\n",
    "*wisteria(n)*:<br>\n",
    "Get an integer n, then print the first n members of the next sequence: <br>\n",
    "a(n) = n - (n's digits multiplied together).<br>\n",
    "<br>\n",
    "*hofstadter(n)*:<br>\n",
    "A sorozat 2 db 1-essel kezdődik, majd ezt követően. <br>\n",
    "The series starts with 2 1's, followed by:  <br>\n",
    "a(n) = a(n-a(n-1)) + a(n-a(n-2))<br>\n",
    "<br>\n",
    "*prime(n)*:<br>\n",
    "Get n integers, then write the first n prime numbers to a file named prime.txt. <br>\n",
    "<br>\n",
    "*vowel(s)*:<br>\n",
    "It takes an s string and selects the vowels from it, then stores the vowels and the number of occurrences in a dictionary."
   ],
   "id": "c4487dcd-460e-4654-a45f-138b333122eb"
  },
  {
   "metadata": {
    "ExecuteTime": {
     "end_time": "2024-11-26T13:51:35.133676Z",
     "start_time": "2024-11-26T13:51:35.114633Z"
    }
   },
   "cell_type": "code",
   "source": [
    "from mymath import *\n",
    "print(\"\\nFlystraight\")\n",
    "flystraight(16)\n",
    "print(\"\\nWisteria\")\n",
    "wisteria(16)\n",
    "print(\"\\nHofstadter\")\n",
    "print(hofstadter(16))\n",
    "prime(16)\n",
    "print(\"\\nVowels\")\n",
    "vowel(\"hello vowels\")\n",
    "\n"
   ],
   "id": "17d4f8c3c112767d",
   "outputs": [
    {
     "name": "stdout",
     "output_type": "stream",
     "text": [
      "\n",
      "Flystraight\n",
      "1\n",
      "4\n",
      "8\n",
      "2.0\n",
      "8.0\n",
      "4.0\n",
      "12.0\n",
      "3.0\n",
      "1.0\n",
      "12.0\n",
      "24.0\n",
      "2.0\n",
      "16.0\n",
      "8.0\n",
      "24.0\n",
      "3.0\n",
      "\n",
      "Wisteria\n",
      "0\n",
      "0\n",
      "0\n",
      "0\n",
      "0\n",
      "0\n",
      "0\n",
      "0\n",
      "0\n",
      "10\n",
      "10\n",
      "10\n",
      "10\n",
      "10\n",
      "10\n",
      "10\n",
      "\n",
      "Hofstadter\n",
      "10\n",
      "\n",
      "Vowels\n"
     ]
    },
    {
     "data": {
      "text/plain": [
       "{'a': 0, 'e': 2, 'i': 0, 'o': 2, 'u': 0}"
      ]
     },
     "execution_count": 13,
     "metadata": {},
     "output_type": "execute_result"
    }
   ],
   "execution_count": 13
  },
  {
   "cell_type": "markdown",
   "id": "8b508a17-6fbd-44c5-bb0b-d9a8cf9721b3",
   "metadata": {},
   "source": [
    "# 1-7 (1 point)\n",
    "\n",
    "The given input.txt file contains space-separated numbers.\n",
    "Create a script that returns the largest number in the file, the number of distinct numbers in the file, and the number of even numbers in the file."
   ]
  },
  {
   "metadata": {
    "ExecuteTime": {
     "end_time": "2024-11-26T13:32:03.771531Z",
     "start_time": "2024-11-26T13:32:03.748621Z"
    }
   },
   "cell_type": "code",
   "source": [
    "with open(\"tasks_batch_01_input.txt\", \"r\") as f:\n",
    "    numbers = [int(num) for num in f.read().split(' ')]\n",
    "\n",
    "largest = max(numbers)\n",
    "distinct = len(set(numbers))\n",
    "even = len([num for num in numbers if num % 2 == 0])\n",
    "\n",
    "print(\"Largest number:\", largest)\n",
    "print(\"Number of distinct numbers:\", distinct)\n",
    "print(\"Number of even numbers:\", even)"
   ],
   "id": "b147f1334b0b02ec",
   "outputs": [
    {
     "name": "stdout",
     "output_type": "stream",
     "text": [
      "Largest number: 9995\n",
      "Number of distinct numbers: 3911\n",
      "Number of even numbers: 2507\n"
     ]
    }
   ],
   "execution_count": 10
  }
 ],
 "metadata": {
  "kernelspec": {
   "display_name": "Python 3 (ipykernel)",
   "language": "python",
   "name": "python3"
  },
  "language_info": {
   "codemirror_mode": {
    "name": "ipython",
    "version": 3
   },
   "file_extension": ".py",
   "mimetype": "text/x-python",
   "name": "python",
   "nbconvert_exporter": "python",
   "pygments_lexer": "ipython3",
   "version": "3.11.5"
  }
 },
 "nbformat": 4,
 "nbformat_minor": 5
}
