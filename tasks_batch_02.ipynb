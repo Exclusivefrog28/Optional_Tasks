{
 "cells": [
  {
   "cell_type": "markdown",
   "id": "5bd3715b-b9d1-4b7b-9146-621c158a8638",
   "metadata": {},
   "source": [
    "# 2-1 (1 point)"
   ]
  },
  {
   "cell_type": "markdown",
   "id": "a9cc6d56-3fbc-41c6-82de-91de336e3db9",
   "metadata": {},
   "source": [
    "Implement the following class:\n",
    "\n",
    "Use python magic methods for the operators."
   ]
  },
  {
   "cell_type": "raw",
   "id": "f71c20b9-f76e-4ded-a5a9-5ef55178cc88",
   "metadata": {},
   "source": [
    "------------------------------------------------------|\n",
    "|  class Rect2                                        |\n",
    "|-----------------------------------------------------|\n",
    "| + x : float                                         |\n",
    "| + y : float                                         |\n",
    "| + w : float                                         |\n",
    "| + h : float                                         |\n",
    "| + get_area() : float                                |  -> (w * h)\n",
    "| + has_no_area() : bool                              |\n",
    "| + has_point(x : float, y : float) : bool            |\n",
    "| + is_equal_approx(b : Rect2) : bool                 |\n",
    "| + operator+=(b: Rect2)                              |\n",
    "| + operator-=(b: Rect2)                              |\n",
    "| + operator+(a: Rect2, b: Rect2) : Rect2             |\n",
    "| + operator-(a: Rect2, b: Rect2) : Rect2             |\n",
    "| + operator==(b: Rect2) : bool                       |\n",
    "| + operator!=(b: Rect2) : bool                       |\n",
    "| + operator Str() : void                             |\n",
    "| + operator Repr() : void                            |\n",
    "| + Rect2()                                           |\n",
    "------------------------------------------------------|"
   ]
  },
  {
   "metadata": {
    "ExecuteTime": {
     "end_time": "2024-11-26T13:32:16.134390Z",
     "start_time": "2024-11-26T13:32:16.102651Z"
    }
   },
   "cell_type": "code",
   "source": [
    "import math\n",
    "import numbers\n",
    "\n",
    "\n",
    "class Rect2:\n",
    "    x: float\n",
    "    y: float\n",
    "    w: float\n",
    "    h: float\n",
    "\n",
    "    def get_area(self) -> float:\n",
    "        return self.w * self.h\n",
    "\n",
    "    def has_no_area(self) -> bool:\n",
    "        return self.get_area() == 0.0\n",
    "\n",
    "    def has_point(self, x: float, y: float) -> bool:\n",
    "        return ((x - self.x < self.h if self.h > 0 else x - self.x > self.h)\n",
    "                and (y - self.y < self.w if self.w > 0 else y - self.y > self.w))\n",
    "\n",
    "    def is_equal_approx(self, b) -> bool:\n",
    "        epsilon = 0.0001\n",
    "        return (abs(self.x - b.x) < epsilon\n",
    "                and abs(self.y - b.y) < epsilon\n",
    "                and abs(self.w - b.w) < epsilon\n",
    "                and abs(self.h - b.h) < epsilon)\n",
    "\n",
    "    def __add__(self, b):\n",
    "        return Rect2(self.x + b.x, self.y + b.y, self.w + b.w, self.h + b.h)\n",
    "\n",
    "    def __sub__(self, b):\n",
    "        return Rect2(self.x - b.x, self.y - b.y, self.w - b.w, self.h - b.h)\n",
    "\n",
    "    def __eq__(self, b) -> bool:\n",
    "        return self.x == b.x and self.y == b.y and self.w == b.w and self.h == b.h\n",
    "\n",
    "    def __ne__(self, b) -> bool:\n",
    "        return not self.__eq__(b)\n",
    "\n",
    "    def __iadd__(self, b):\n",
    "        self.x += b.x\n",
    "        self.y += b.y\n",
    "        self.w += b.w\n",
    "        self.h += b.h\n",
    "        return self\n",
    "\n",
    "    def __isub__(self, b):\n",
    "        self.x -= b.x\n",
    "        self.y -= b.y\n",
    "        self.w -= b.w\n",
    "        self.h -= b.h\n",
    "        return self\n",
    "\n",
    "    def __str__(self):\n",
    "        return f\"({self.x}, {self.y}, {self.w}, {self.h})\"\n",
    "\n",
    "    def __repr__(self):\n",
    "        return f\"Rect2({self.x}, {self.y}, {self.w}, {self.h})\"\n",
    "\n",
    "    def __init__(self, x, y, w, h):\n",
    "        self.x = x\n",
    "        self.y = y\n",
    "        self.w = w\n",
    "        self.h = h\n"
   ],
   "id": "ffd4ef4c41bc1469",
   "outputs": [],
   "execution_count": 1
  },
  {
   "cell_type": "markdown",
   "id": "53111bff-58e0-4240-a4c1-65623d0282dd",
   "metadata": {},
   "source": [
    "# 2-2 (5 points total)"
   ]
  },
  {
   "cell_type": "markdown",
   "id": "abaea32e-f5e3-4674-b486-76211de9d348",
   "metadata": {},
   "source": [
    "a) Implement the following class hierarchy:  (3 points)"
   ]
  },
  {
   "cell_type": "raw",
   "id": "7fc0219b-9ac8-484e-ab3b-79ed3a104a30",
   "metadata": {},
   "source": [
    "------------------------------------------------|\n",
    "|  class Vector                                 |\n",
    "|-----------------------------------------------|\n",
    "| + abs() : Vector                              |  -> An error of your choice.\n",
    "| + is_equal_approx(b : Vector) : bool          |  -> An error of your choice.\n",
    "| + length() : float                            |  -> An error of your choice.\n",
    "| + add(b: Vector)                              |  -> An error of your choice.\n",
    "| + sub(b: Vector)                              |  -> An error of your choice.\n",
    "| + operator Str() : void                       |\n",
    "| + operator Repr() : void                      |\n",
    "| + operator get(index: int) : float            |  -> An error of your choice.\n",
    "| + operator set(index: int, value : float)     |  -> An error of your choice.\n",
    "| + Vector()                                    |\n",
    "------------------------------------------------|"
   ]
  },
  {
   "cell_type": "raw",
   "id": "320d44fb-9afa-41a3-bff2-43f07f2d9178",
   "metadata": {},
   "source": [
    "------------------------------------------------|\n",
    "|  class Vector2 : Vector                       |\n",
    "|-----------------------------------------------|\n",
    "| + x : float                                   |\n",
    "| + y : float                                   |\n",
    "| + abs() : Vector2                             |  -> if a < 0 ret -a, else ret a;\n",
    "| + is_equal_approx(b : Vector2) : bool         |  -> whether the vectors are approximately equal. The max difference should be 0.00001 | + |                                               |     (Epsilon). Handle invalid parameters gracefully.\n",
    "| + length() : float                            |  -> sqrt(x * x + y * y)\n",
    "| + add(b: Vector2)                             |  -> x += b.x, y += b.y. Handle invalid parameters gracefully.\n",
    "| + sub(b: Vector2)                             |  -> x -= b.x, y -= b.y. Handle invalid parameters gracefully.\n",
    "| + operator Str() : void                       |\n",
    "| + operator Repr() : void                      |\n",
    "| + operator set(index: int, value : float)     |  -> An error of your choice.\n",
    "| + Vector2()                                   |\n",
    "------------------------------------------------|"
   ]
  },
  {
   "cell_type": "raw",
   "id": "4372da46-ab99-4044-a2c2-5ff843c92e17",
   "metadata": {},
   "source": [
    "------------------------------------------------|\n",
    "|  class Vector3 : Vector                       |\n",
    "|-----------------------------------------------|\n",
    "| + x : float                                   |\n",
    "| + y : float                                   |\n",
    "| + z : float                                   |\n",
    "| + abs() : Vector3                             |  -> if a < 0 ret -a, else ret a;\n",
    "| + is_equal_approx(b : Vector3) : bool         |  -> whether the vectors are approximately equal. The max difference should be 0.00001 | + |                                               |     (Epsilon). Handle invalid parameters gracefully.\n",
    "| + length() : float                            |  -> sqrt(x * x + y * y + z * z)\n",
    "| + add(b: Vector3)                             |  -> x += b.x, y += b.y, z += b.z. Handle invalid parameters gracefully.\n",
    "| + sub(b: Vector3)                             |  -> x -= b.x, y -= b.y, z -= b.z. Handle invalid parameters gracefully.\n",
    "| + operator Str() : void                       |\n",
    "| + operator Repr() : void                      |\n",
    "| + operator set(index: int, value : float)     |  -> An error of your choice.\n",
    "| + Vector3()                                   |\n",
    "------------------------------------------------|"
   ]
  },
  {
   "metadata": {
    "ExecuteTime": {
     "end_time": "2024-11-26T14:23:29.870444Z",
     "start_time": "2024-11-26T14:23:29.858531Z"
    }
   },
   "cell_type": "code",
   "source": [
    "class Vector:\n",
    "    elements = []\n",
    "\n",
    "    def abs(self):\n",
    "        if any([isinstance(item, float) for item in self.elements]):\n",
    "            raise TypeError\n",
    "        absolutevector = Vector()\n",
    "        absolutevector.elements = [abs(item) for item in self.elements.copy()]\n",
    "        return absolutevector\n",
    "\n",
    "    def length(self) -> float:\n",
    "        if any([isinstance(item, float) for item in self.elements]):\n",
    "            raise TypeError\n",
    "        return math.sqrt(sum([item ** 2 for item in self.elements]))\n",
    "\n",
    "    def is_equal_approx(self, b) -> bool:\n",
    "        if any([isinstance(item, float) for item in self.elements]) or any([isinstance(item, float) for item in b.elements]) :\n",
    "            raise TypeError\n",
    "\n",
    "        epsilon = 0.00001\n",
    "        if len(self.elements) != len(b.elements):\n",
    "            return False\n",
    "        return all([abs(self[i] - b[i]) < epsilon for i in range(len(self.elements))])\n",
    "\n",
    "    def add(self, b):\n",
    "        if any([isinstance(item, float) for item in self.elements]) or any([isinstance(item, float) for item in b.elements]) :\n",
    "            raise TypeError\n",
    "        if len(self.elements) != len(b.elements):\n",
    "            raise ValueError\n",
    "        self.elements = [self[i] + b[i] for i in range(len(self.elements))]\n",
    "\n",
    "    def sub(self, b):\n",
    "        if any([isinstance(item, float) for item in self.elements]) or any([isinstance(item, float) for item in b.elements]) :\n",
    "            raise TypeError\n",
    "        if len(self.elements) != len(b.elements):\n",
    "            raise ValueError\n",
    "        self.elements = [self[i] - b[i] for i in range(len(self.elements))]\n",
    "\n",
    "    def __str__(self):\n",
    "        return f\"({', '.join([str(item) for item in self.elements])})\"\n",
    "\n",
    "    def __repr__(self):\n",
    "        return f\"Vector({', '.join([str(item) for item in self.elements])})\"\n",
    "\n",
    "    def __getitem__(self, index):\n",
    "        if isinstance(index, int):\n",
    "            if index < 0 or index >= len(self.elements):\n",
    "                raise IndexError\n",
    "            return self.elements[index]\n",
    "        else:\n",
    "            raise TypeError\n",
    "\n",
    "    def __setitem__(self, index, value):\n",
    "        if isinstance(index, int):\n",
    "            if index < 0 or index >= len(self.elements):\n",
    "                raise IndexError\n",
    "            if isinstance(value, float):\n",
    "                self.elements[index] = value\n",
    "            else:\n",
    "                raise TypeError\n",
    "        else:\n",
    "            raise TypeError\n",
    "\n",
    "    def __init__(self):\n",
    "        pass\n",
    "\n",
    "class Vector2(Vector):\n",
    "    @property\n",
    "    def x(self):\n",
    "        return self.elements[0]\n",
    "\n",
    "    @x.setter\n",
    "    def x(self, x):\n",
    "        self.elements[0] = x\n",
    "\n",
    "    @property\n",
    "    def y(self):\n",
    "        return self.elements[1]\n",
    "\n",
    "    @y.setter\n",
    "    def y(self, y):\n",
    "        self.elements[1] = y\n",
    "\n",
    "    def abs(self):\n",
    "        absolutevector2 = Vector2()\n",
    "        absolutevector2.elements = super().abs().elements\n",
    "        return absolutevector2\n",
    "\n",
    "    def __repr__(self):\n",
    "        return f\"Vector2({self.x}, {self.y})\"\n",
    "\n",
    "    def __init__(self):\n",
    "        super().__init__()\n",
    "        self.elements = [0, 0]\n",
    "\n",
    "class Vector3(Vector):\n",
    "    @property\n",
    "    def x(self):\n",
    "        return self.elements[0]\n",
    "\n",
    "    @x.setter\n",
    "    def x(self, x):\n",
    "        self.elements[0] = x\n",
    "\n",
    "    @property\n",
    "    def y(self):\n",
    "        return self.elements[1]\n",
    "\n",
    "    @y.setter\n",
    "    def y(self, y):\n",
    "        self.elements[1] = y\n",
    "\n",
    "    @property\n",
    "    def z(self):\n",
    "        return self.elements[2]\n",
    "\n",
    "    @z.setter\n",
    "    def z(self, z):\n",
    "        self.elements[2] = z\n",
    "\n",
    "    def abs(self):\n",
    "        absolutevector3 = Vector3()\n",
    "        absolutevector3.elements = super().abs().elements\n",
    "        return absolutevector3\n",
    "\n",
    "    def __repr__(self):\n",
    "        return f\"Vector2({self.x}, {self.y})\"\n",
    "\n",
    "    def __init__(self):\n",
    "        super().__init__()\n",
    "        self.elements = [0, 0, 0]\n",
    "\n"
   ],
   "id": "d8cf5282ebd5467b",
   "outputs": [],
   "execution_count": 1
  },
  {
   "cell_type": "markdown",
   "id": "09a14ab0-e030-440c-ace9-35f17f2c32d1",
   "metadata": {},
   "source": [
    "b) Write documentation (pydoc) for the previously implemented classes.  (1 points)"
   ]
  },
  {
   "cell_type": "markdown",
   "id": "166a1af8-775c-4b35-b93f-52c1532a8137",
   "metadata": {},
   "source": [
    "c) Write test cases (doctest) for the previously impolemented classes.  (1 points)"
   ]
  },
  {
   "cell_type": "markdown",
   "id": "d8ae716a-4885-421c-bd87-0c0eb81281cf",
   "metadata": {},
   "source": [
    "# 2-3 (1 point)"
   ]
  },
  {
   "cell_type": "markdown",
   "id": "a2a1b020-b4de-4922-88e9-b9bd437b3240",
   "metadata": {},
   "source": [
    "Implement the following class (you have to use properties):"
   ]
  },
  {
   "cell_type": "raw",
   "id": "6a30647e-b523-4a30-bb01-5c25487df85f",
   "metadata": {},
   "source": [
    "------------------------------------------------|\n",
    "|  class PositiveVector                         |\n",
    "|-----------------------------------------------|\n",
    "| + x : float                                   |  -> Have to stay >= 0.\n",
    "| + y : float                                   |  -> Have to stay >= 0.\n",
    "------------------------------------------------|"
   ]
  },
  {
   "metadata": {
    "ExecuteTime": {
     "end_time": "2024-11-26T13:32:21.507273Z",
     "start_time": "2024-11-26T13:32:21.498394Z"
    }
   },
   "cell_type": "code",
   "source": [
    "class PositiveVector:\n",
    "    def __init__(self, x, y):\n",
    "        self.x = x\n",
    "        self.y = y\n",
    "\n",
    "    @property\n",
    "    def x(self):\n",
    "        return self.__x\n",
    "\n",
    "    @x.setter\n",
    "    def x(self, x):\n",
    "        self.__x = max(x, 0)\n",
    "\n",
    "    @property\n",
    "    def y(self):\n",
    "        return self.__y\n",
    "\n",
    "    @y.setter\n",
    "    def y(self, y):\n",
    "        self.__y = max(y, 0)"
   ],
   "id": "527c0dfaebe79240",
   "outputs": [],
   "execution_count": 2
  },
  {
   "cell_type": "markdown",
   "id": "fb6a6360-2afc-45cd-bf88-44e123505409",
   "metadata": {},
   "source": [
    "# 2-4 (1 point)"
   ]
  },
  {
   "cell_type": "markdown",
   "id": "c052205a-355f-4d17-8144-7a0466a41473",
   "metadata": {},
   "source": [
    "Using python write the following text to a new \"sp.py\" file into the current directory:"
   ]
  },
  {
   "cell_type": "raw",
   "id": "1c12bd28-49b0-4adf-acbc-30c93d6a658e",
   "metadata": {},
   "source": [
    "print(\"Hello World!\")"
   ]
  },
  {
   "metadata": {
    "ExecuteTime": {
     "end_time": "2024-11-26T13:32:24.610210Z",
     "start_time": "2024-11-26T13:32:24.598704Z"
    }
   },
   "cell_type": "code",
   "source": [
    "with open('sb.py', 'w') as f:\n",
    "    f.write('print(\"Hello World!\")\\n')\n"
   ],
   "id": "9df1e23a80b85edd",
   "outputs": [],
   "execution_count": 3
  },
  {
   "cell_type": "markdown",
   "id": "6838d1ee-aeeb-4142-8cd1-56a07655c2db",
   "metadata": {},
   "source": [
    "Run the \"python sp.py\" command in a subprocess and get back what it's printed, and then display it."
   ]
  },
  {
   "metadata": {
    "ExecuteTime": {
     "end_time": "2024-11-26T13:32:26.652707Z",
     "start_time": "2024-11-26T13:32:26.581908Z"
    }
   },
   "cell_type": "code",
   "source": [
    "#Run the \"python sp.py\" command in a subprocess and get back what it's printed, and then display it.\n",
    "\n",
    "import subprocess\n",
    "\n",
    "subprocess.run([\"python3\", \"sb.py\"])"
   ],
   "id": "63c441b4532b7374",
   "outputs": [
    {
     "name": "stdout",
     "output_type": "stream",
     "text": [
      "Hello World!\n"
     ]
    },
    {
     "data": {
      "text/plain": [
       "CompletedProcess(args=['python3', 'sb.py'], returncode=0)"
      ]
     },
     "execution_count": 4,
     "metadata": {},
     "output_type": "execute_result"
    }
   ],
   "execution_count": 4
  },
  {
   "cell_type": "markdown",
   "id": "640bcb9c-178f-491f-a8ec-6a681ece1467",
   "metadata": {},
   "source": [
    "# 2-5 (1 point)"
   ]
  },
  {
   "cell_type": "markdown",
   "id": "f03cc7b8-1ce9-4fdf-8a9e-03ab559097cb",
   "metadata": {},
   "source": [
    "Write a method that counts and prints the elapsed seonds after it has been called, and start in a new thread.\n",
    "\n",
    "Make sure you can stop it later without restarting the jupyter notebook's kernel."
   ]
  },
  {
   "metadata": {
    "ExecuteTime": {
     "end_time": "2024-11-03T16:09:25.244988Z",
     "start_time": "2024-11-03T16:09:20.227752Z"
    }
   },
   "cell_type": "code",
   "source": [
    "import threading\n",
    "import time\n",
    "\n",
    "timer_active = False\n",
    "\n",
    "\n",
    "def start_timer():\n",
    "    global timer_active\n",
    "    timer_active = True\n",
    "\n",
    "    def timer_function():\n",
    "        global timer_active\n",
    "        seconds = 0\n",
    "        while timer_active:\n",
    "            print(f\"Elapsed time: {seconds} seconds\")\n",
    "            time.sleep(1)\n",
    "            seconds += 1\n",
    "\n",
    "    thread = threading.Thread(target=timer_function)\n",
    "    thread.start()\n",
    "\n",
    "    return thread\n",
    "\n",
    "\n",
    "def stop_timer(thread):\n",
    "    global timer_active\n",
    "    timer_active = False\n",
    "    thread.join()\n",
    "\n",
    "\n",
    "thread = start_timer()\n",
    "\n",
    "time.sleep(5)\n",
    "stop_timer(thread)"
   ],
   "id": "de8ccbb489690204",
   "outputs": [
    {
     "name": "stdout",
     "output_type": "stream",
     "text": [
      "Elapsed time: 0 seconds\n",
      "Elapsed time: 1 seconds\n",
      "Elapsed time: 2 seconds\n",
      "Elapsed time: 3 seconds\n",
      "Elapsed time: 4 seconds\n"
     ]
    }
   ],
   "execution_count": 7
  },
  {
   "cell_type": "markdown",
   "id": "a712359d-08b3-4636-9ebb-6c0e2903df94",
   "metadata": {},
   "source": [
    "# 2-6 (1 point)"
   ]
  },
  {
   "cell_type": "markdown",
   "id": "db63892f-5b82-42b0-854a-ae65a91ff390",
   "metadata": {},
   "source": [
    "Evaluate sin(x) and cos(x) in the interval [-10, 10] at least at a 1000 places, and then plot them on the same figure.\n",
    "\n",
    "Make sure to show the legend, and give the plot a title."
   ]
  },
  {
   "metadata": {
    "ExecuteTime": {
     "end_time": "2024-11-11T10:19:26.552765Z",
     "start_time": "2024-11-11T10:19:26.545482Z"
    }
   },
   "cell_type": "code",
   "source": [
    "import numpy as np\n",
    "import matplotlib.pyplot as plt\n",
    "import pandas as pd"
   ],
   "id": "1b9c35da818acb13",
   "outputs": [],
   "execution_count": 53
  },
  {
   "metadata": {
    "ExecuteTime": {
     "end_time": "2024-11-11T10:24:09.868200Z",
     "start_time": "2024-11-11T10:24:09.560725Z"
    }
   },
   "cell_type": "code",
   "source": [
    "x = np.linspace(-10, 10, 1000)\n",
    "\n",
    "sin_x = np.sin(x)\n",
    "cos_x = np.cos(x)\n",
    "\n",
    "plt.figure()\n",
    "plt.plot(x, sin_x, label='sin(x)')\n",
    "plt.plot(x, cos_x, label='cos(x)')\n",
    "plt.xlabel('x')\n",
    "plt.ylabel('y')\n",
    "plt.legend()\n",
    "plt.title('Sine and Cosine Functions')\n",
    "\n",
    "plt.show()"
   ],
   "id": "d3ffec95ae0c1f7",
   "outputs": [
    {
     "data": {
      "text/plain": [
       "<Figure size 640x480 with 1 Axes>"
      ],
      "image/png": "[encoded data removed]"
     },
     "metadata": {},
     "output_type": "display_data"
    }
   ],
   "execution_count": 74
  },
  {
   "cell_type": "markdown",
   "id": "9552a703-3654-4687-9caa-95ce47fec9e3",
   "metadata": {},
   "source": [
    "# 2-7 (1 point)"
   ]
  },
  {
   "cell_type": "markdown",
   "id": "1652c9c6-b2dc-4779-bbd7-068d4c88abfd",
   "metadata": {},
   "source": [
    "Evaluate $x$, $x^2$, $x^3$, $x^4$ in the interval [-5, 5] at least at a 100 places, and then plot each one of them in a subplot.\n",
    "\n",
    "Make sure to give the plot and every subplots titles."
   ]
  },
  {
   "metadata": {
    "ExecuteTime": {
     "end_time": "2024-11-11T10:23:54.857236Z",
     "start_time": "2024-11-11T10:23:54.021623Z"
    }
   },
   "cell_type": "code",
   "source": [
    "x = np.linspace(-5, 5, 100)\n",
    "\n",
    "x_squared = x ** 2\n",
    "x_cubed = x ** 3\n",
    "x_fourth = x ** 4\n",
    "\n",
    "fig, axs = plt.subplots(4, 1)\n",
    "fig.suptitle('functions')\n",
    "\n",
    "axs[0].plot(x, x)\n",
    "axs[0].set_title('x')\n",
    "axs[1].plot(x, x_squared)\n",
    "axs[1].set_title('x^2')\n",
    "axs[2].plot(x, x_cubed)\n",
    "axs[2].set_title('x^3')\n",
    "axs[3].plot(x, x_fourth)\n",
    "axs[3].set_title('x^4')\n",
    "\n",
    "plt.show()"
   ],
   "id": "db0beeb8226dc68a",
   "outputs": [
    {
     "data": {
      "text/plain": [
       "<Figure size 640x480 with 4 Axes>"
      ],
      "image/png": "[encoded data removed]"
     },
     "metadata": {},
     "output_type": "display_data"
    }
   ],
   "execution_count": 73
  },
  {
   "cell_type": "markdown",
   "id": "61d5e049-5d96-4007-b180-5f0d694d3753",
   "metadata": {},
   "source": [
    "# 2-8 (5 points total)"
   ]
  },
  {
   "metadata": {
    "ExecuteTime": {
     "end_time": "2024-11-11T10:13:40.958297Z",
     "start_time": "2024-11-11T10:13:40.926141Z"
    }
   },
   "cell_type": "code",
   "source": [
    "from sympy import *\n",
    "from sympy.abc import x\n",
    "\n",
    "init_printing()"
   ],
   "id": "4a8547b4978a7a03",
   "outputs": [],
   "execution_count": 26
  },
  {
   "cell_type": "markdown",
   "id": "b34046f9-0edf-4cb8-9a81-b2c76aec02d6",
   "metadata": {},
   "source": [
    "a) Solve the following equation (1 point): $$ 13x^2 - 2x - 12 = 0 $$"
   ]
  },
  {
   "metadata": {
    "ExecuteTime": {
     "end_time": "2024-11-11T10:18:15.400925Z",
     "start_time": "2024-11-11T10:18:15.295252Z"
    }
   },
   "cell_type": "code",
   "source": "roots(13 * x ** 2 - 2 * x - 12, x)",
   "id": "a1494859f65fc8e0",
   "outputs": [
    {
     "data": {
      "text/plain": [
       "⎧1    √157     1    √157   ⎫\n",
       "⎨── - ────: 1, ── + ────: 1⎬\n",
       "⎩13    13      13    13    ⎭"
      ],
      "image/png": "[encoded data removed]",
      "text/latex": "$\\displaystyle \\left\\{ \\frac{1}{13} - \\frac{\\sqrt{157}}{13} : 1, \\  \\frac{1}{13} + \\frac{\\sqrt{157}}{13} : 1\\right\\}$"
     },
     "execution_count": 47,
     "metadata": {},
     "output_type": "execute_result"
    }
   ],
   "execution_count": 47
  },
  {
   "cell_type": "markdown",
   "id": "bd360431-e858-42e4-8941-3dd0e73af01f",
   "metadata": {},
   "source": [
    "b) Factor the following polynomial (1 point): $$ 113x^2 + 13x - 4 = 0 $$"
   ]
  },
  {
   "metadata": {
    "ExecuteTime": {
     "end_time": "2024-11-11T10:13:47.351499Z",
     "start_time": "2024-11-11T10:13:44.560743Z"
    }
   },
   "cell_type": "code",
   "source": "factor(113 * x ** 2 + 13 * x - 4, x)",
   "id": "f4c1d53aa2047889",
   "outputs": [
    {
     "data": {
      "text/plain": [
       "     2           \n",
       "113⋅x  + 13⋅x - 4"
      ],
      "image/png": "[encoded data removed]",
      "text/latex": "$\\displaystyle 113 x^{2} + 13 x - 4$"
     },
     "execution_count": 28,
     "metadata": {},
     "output_type": "execute_result"
    }
   ],
   "execution_count": 28
  },
  {
   "cell_type": "markdown",
   "id": "4f1345a6-fe32-4e2c-a4b7-0426faa34017",
   "metadata": {},
   "source": [
    "c) Cancel the foillowing rational (1 point): $$ \\frac{13 * x^{15} + 43 * x^5 - 11 * x^2 + 34 * x^2}{76 * x^{15} + 3 * x^5 - 1 * x^2 + 2 * x^2} $$"
   ]
  },
  {
   "metadata": {
    "ExecuteTime": {
     "end_time": "2024-11-11T10:18:53.035456Z",
     "start_time": "2024-11-11T10:18:52.969341Z"
    }
   },
   "cell_type": "code",
   "source": [
    "div(13 * x ** 15 + 43 * x ** 5 - 11 * x ** 2 + 34 * x ** 2, 76 * x ** 15 + 3 * x ** 5 - x ** 2 + 2 * x ** 2, domain=ZZ)[\n",
    "    1]"
   ],
   "id": "71d0ed515613ac46",
   "outputs": [
    {
     "data": {
      "text/plain": [
       "    15       5       2\n",
       "13⋅x   + 43⋅x  + 23⋅x "
      ],
      "image/png": "[encoded data removed]",
      "text/latex": "$\\displaystyle 13 x^{15} + 43 x^{5} + 23 x^{2}$"
     },
     "execution_count": 49,
     "metadata": {},
     "output_type": "execute_result"
    }
   ],
   "execution_count": 49
  },
  {
   "cell_type": "markdown",
   "id": "00b6f0a6-0fb5-454e-a640-d55cf5f2d71d",
   "metadata": {},
   "source": [
    "d) Differentiate the following expression (1 point): $$ 23x^6 + 21x^4 $$"
   ]
  },
  {
   "metadata": {
    "ExecuteTime": {
     "end_time": "2024-11-11T10:18:57.109481Z",
     "start_time": "2024-11-11T10:18:57.037229Z"
    }
   },
   "cell_type": "code",
   "source": "diff(23 * x ** 6 + 21 * x ** 4, x)",
   "id": "cb3a8db8e26d13a0",
   "outputs": [
    {
     "data": {
      "text/plain": [
       "     5       3\n",
       "138⋅x  + 84⋅x "
      ],
      "image/png": "[encoded data removed]",
      "text/latex": "$\\displaystyle 138 x^{5} + 84 x^{3}$"
     },
     "execution_count": 50,
     "metadata": {},
     "output_type": "execute_result"
    }
   ],
   "execution_count": 50
  },
  {
   "cell_type": "markdown",
   "id": "8a79f13c-680b-495f-9aa9-7f052840b393",
   "metadata": {},
   "source": [
    "e) Integrate the following expression (1 point): $$ 8x^3 + 4x^7 $$"
   ]
  },
  {
   "metadata": {
    "ExecuteTime": {
     "end_time": "2024-11-11T10:11:44.506802Z",
     "start_time": "2024-11-11T10:11:44.420256Z"
    }
   },
   "cell_type": "code",
   "source": "integrate(8 * x ** 3 + 4 * x ** 7, x)",
   "id": "6326d5ef70f12809",
   "outputs": [
    {
     "data": {
      "text/plain": [
       "x**8/2 + 2*x**4"
      ],
      "text/latex": "$\\displaystyle \\frac{x^{8}}{2} + 2 x^{4}$"
     },
     "execution_count": 23,
     "metadata": {},
     "output_type": "execute_result"
    }
   ],
   "execution_count": 23
  },
  {
   "cell_type": "markdown",
   "id": "e3061922-6256-4ae4-adbc-ffed47ce0a21",
   "metadata": {},
   "source": [
    "# 2-9 (5 points total)"
   ]
  },
  {
   "cell_type": "markdown",
   "id": "cbc43265-fedf-4945-b419-65fce537a241",
   "metadata": {},
   "source": [
    "a) Create a table using pandas with columns A, B, C, D. Add 100 rows of random floats to it. (1 point)"
   ]
  },
  {
   "metadata": {
    "ExecuteTime": {
     "end_time": "2024-10-22T14:38:10.648138Z",
     "start_time": "2024-10-22T14:38:10.621691Z"
    }
   },
   "cell_type": "code",
   "source": [
    "df = pd.DataFrame(columns=['A', 'B', 'C', 'D'])\n",
    "\n",
    "for col in df.columns:\n",
    "    df[col] = np.random.rand(100)\n",
    "\n",
    "print(df)"
   ],
   "id": "92b9ec04b93f5ae0",
   "outputs": [
    {
     "name": "stdout",
     "output_type": "stream",
     "text": [
      "           A         B         C         D\n",
      "0   0.982136  0.663220  0.197810  0.540588\n",
      "1   0.113899  0.298449  0.155846  0.105128\n",
      "2   0.706372  0.640650  0.389044  0.825153\n",
      "3   0.230234  0.192628  0.823254  0.766297\n",
      "4   0.131366  0.464400  0.952781  0.859766\n",
      "..       ...       ...       ...       ...\n",
      "95  0.150789  0.635729  0.510250  0.814943\n",
      "96  0.551940  0.159986  0.278432  0.237366\n",
      "97  0.630710  0.880753  0.867370  0.855016\n",
      "98  0.392734  0.412139  0.120581  0.932333\n",
      "99  0.567326  0.758298  0.865467  0.610794\n",
      "\n",
      "[100 rows x 4 columns]\n"
     ]
    }
   ],
   "execution_count": 21
  },
  {
   "cell_type": "markdown",
   "id": "83a0f9e6-5cdc-48c1-b9d3-48c43875e417",
   "metadata": {},
   "source": [
    "b) Calculate the mean of every columns. (1 point)"
   ]
  },
  {
   "metadata": {
    "ExecuteTime": {
     "end_time": "2024-10-22T14:38:40.411133Z",
     "start_time": "2024-10-22T14:38:40.398085Z"
    }
   },
   "cell_type": "code",
   "source": "print(df.mean())",
   "id": "1c12b8e13fc5944d",
   "outputs": [
    {
     "name": "stdout",
     "output_type": "stream",
     "text": [
      "A    0.487342\n",
      "B    0.473889\n",
      "C    0.473193\n",
      "D    0.519056\n",
      "dtype: float64\n"
     ]
    }
   ],
   "execution_count": 22
  },
  {
   "cell_type": "markdown",
   "id": "bc9be2d3-ae10-46b9-b29b-36d253120577",
   "metadata": {},
   "source": [
    "c) Select columns C and D. (1 point)"
   ]
  },
  {
   "metadata": {
    "ExecuteTime": {
     "end_time": "2024-10-22T14:39:04.947796Z",
     "start_time": "2024-10-22T14:39:04.931731Z"
    }
   },
   "cell_type": "code",
   "source": "print(df[['C', 'D']])",
   "id": "73fd9cb27cffbe09",
   "outputs": [
    {
     "name": "stdout",
     "output_type": "stream",
     "text": [
      "           C         D\n",
      "0   0.197810  0.540588\n",
      "1   0.155846  0.105128\n",
      "2   0.389044  0.825153\n",
      "3   0.823254  0.766297\n",
      "4   0.952781  0.859766\n",
      "..       ...       ...\n",
      "95  0.510250  0.814943\n",
      "96  0.278432  0.237366\n",
      "97  0.867370  0.855016\n",
      "98  0.120581  0.932333\n",
      "99  0.865467  0.610794\n",
      "\n",
      "[100 rows x 2 columns]\n"
     ]
    }
   ],
   "execution_count": 23
  },
  {
   "cell_type": "markdown",
   "id": "4a259b5d-1795-455f-ac5f-8024778224bb",
   "metadata": {},
   "source": "d) Select all rows where column C is greater than 0. (1 point)"
  },
  {
   "metadata": {
    "ExecuteTime": {
     "end_time": "2024-10-22T14:40:00.238918Z",
     "start_time": "2024-10-22T14:40:00.217920Z"
    }
   },
   "cell_type": "code",
   "source": "print(df[df['C'] > 0])",
   "id": "f0c8a3bfa54ef7da",
   "outputs": [
    {
     "name": "stdout",
     "output_type": "stream",
     "text": [
      "           A         B         C         D\n",
      "0   0.982136  0.663220  0.197810  0.540588\n",
      "1   0.113899  0.298449  0.155846  0.105128\n",
      "2   0.706372  0.640650  0.389044  0.825153\n",
      "3   0.230234  0.192628  0.823254  0.766297\n",
      "4   0.131366  0.464400  0.952781  0.859766\n",
      "..       ...       ...       ...       ...\n",
      "95  0.150789  0.635729  0.510250  0.814943\n",
      "96  0.551940  0.159986  0.278432  0.237366\n",
      "97  0.630710  0.880753  0.867370  0.855016\n",
      "98  0.392734  0.412139  0.120581  0.932333\n",
      "99  0.567326  0.758298  0.865467  0.610794\n",
      "\n",
      "[100 rows x 4 columns]\n"
     ]
    }
   ],
   "execution_count": 25
  },
  {
   "cell_type": "markdown",
   "id": "47e1a196-e2a4-40f4-90a3-83ae4d1aca0e",
   "metadata": {},
   "source": [
    "e) Select all values that are greater than 1. (1 point)"
   ]
  },
  {
   "metadata": {
    "ExecuteTime": {
     "end_time": "2024-10-22T14:41:56.442516Z",
     "start_time": "2024-10-22T14:41:56.432727Z"
    }
   },
   "cell_type": "code",
   "source": [
    "values = df.values\n",
    "print(values[values > 1])"
   ],
   "id": "853786006324188b",
   "outputs": [
    {
     "name": "stdout",
     "output_type": "stream",
     "text": [
      "[]\n"
     ]
    }
   ],
   "execution_count": 27
  },
  {
   "cell_type": "markdown",
   "id": "e84e9291-ba17-4bbd-8bbe-bdd82a60d2f4",
   "metadata": {},
   "source": [
    " "
   ]
  }
 ],
 "metadata": {
  "kernelspec": {
   "display_name": "Python 3 (ipykernel)",
   "language": "python",
   "name": "python3"
  },
  "language_info": {
   "codemirror_mode": {
    "name": "ipython",
    "version": 3
   },
   "file_extension": ".py",
   "mimetype": "text/x-python",
   "name": "python",
   "nbconvert_exporter": "python",
   "pygments_lexer": "ipython3",
   "version": "3.11.5"
  }
 },
 "nbformat": 4,
 "nbformat_minor": 5
}
